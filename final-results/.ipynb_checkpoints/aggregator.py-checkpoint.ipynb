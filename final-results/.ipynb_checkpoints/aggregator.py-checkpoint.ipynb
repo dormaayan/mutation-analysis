{
 "cells": [
  {
   "cell_type": "code",
   "execution_count": 1,
   "metadata": {},
   "outputs": [],
   "source": [
    "import pandas as pd"
   ]
  },
  {
   "cell_type": "code",
   "execution_count": 2,
   "metadata": {},
   "outputs": [
    {
     "name": "stdout",
     "output_type": "stream",
     "text": [
      "                                               class  LOC     HALSTEAD  RFC  \\\n",
      "0                  io.undertow.util.SimpleObjectPool   93   603.105636    5   \n",
      "1  io.undertow.util.SameSiteNoneIncompatibleClien...  157  1475.611203   50   \n",
      "2                       io.undertow.util.LocaleUtils   79   528.944155   14   \n",
      "3                       io.undertow.util.PathMatcher  249  1742.993955   58   \n",
      "4                 io.undertow.util.HeaderTokenParser  143   836.613478   14   \n",
      "\n",
      "   CBO  MPC  IFC  DAC  DAC2  LCOM1  ...  LCOM5       COH  TCC  LCC  ICH  WCM  \\\n",
      "0    5    2    2    4     3      0  ...      0  0.666667    0    0  0.0    3   \n",
      "1    2   38   38    7     1     66  ...      1  0.083333    0    0  0.0   12   \n",
      "2    4   11   11    0     0      3  ...      0  0.000000    0    0  0.0    3   \n",
      "3    7   44   44    5     5     56  ...      2  0.342857    0    0  0.0   14   \n",
      "4    3   12   12    6     3      0  ...      0  0.583333    0    0  0.0    2   \n",
      "\n",
      "   NOA  NOPA  NOP  McCABE  \n",
      "0    4     0    4       5  \n",
      "1    7     0    7      34  \n",
      "2    0     0    0      11  \n",
      "3    5     0    5      41  \n",
      "4    6     0    5      10  \n",
      "\n",
      "[5 rows x 24 columns]\n"
     ]
    }
   ],
   "source": [
    "df_mutation = pd.read_csv(\"mutation/commons-bcel.csv\")\n",
    "df_code_smells = pd.read_csv(\"code-smells/commons-bcel.csv\")\n",
    "df_test_smells = pd.read_csv(\"test-smells/commons-bcel.csv\")\n",
    "df_ck_metrics = pd.read_csv(\"ck-metrics/commons-bcel.csv\")\n",
    "df_ck_metrics = pd.read_csv(\"ck-metrics/commons-bcel.csv\")\n",
    "\n",
    "\n",
    "print(df.head(5))"
   ]
  },
  {
   "cell_type": "code",
   "execution_count": null,
   "metadata": {},
   "outputs": [],
   "source": []
  }
 ],
 "metadata": {
  "kernelspec": {
   "display_name": "Python 3",
   "language": "python",
   "name": "python3"
  },
  "language_info": {
   "codemirror_mode": {
    "name": "ipython",
    "version": 2
   },
   "file_extension": ".py",
   "mimetype": "text/x-python",
   "name": "python",
   "nbconvert_exporter": "python",
   "pygments_lexer": "ipython2",
   "version": "2.7.12"
  }
 },
 "nbformat": 4,
 "nbformat_minor": 2
}
